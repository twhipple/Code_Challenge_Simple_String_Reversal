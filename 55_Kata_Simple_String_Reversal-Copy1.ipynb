{
 "cells": [
  {
   "cell_type": "markdown",
   "metadata": {},
   "source": [
    "# Simple string reversal"
   ]
  },
  {
   "cell_type": "raw",
   "metadata": {},
   "source": [
    "In this Kata, we are going to reverse a string while maintaining the spaces (if any) in their original place.\n",
    "\n",
    "For example:\n",
    "\n",
    "solve(\"our code\") = \"edo cruo\"\n",
    "-- Normal reversal without spaces is \"edocruo\". \n",
    "-- However, there is a space at index 3, so the string becomes \"edo cruo\"\n",
    "\n",
    "solve(\"your code rocks\") = \"skco redo cruoy\". \n",
    "solve(\"codewars\") = \"srawedoc\"\n",
    "More examples in the test cases. All input will be lower case letters and in some cases spaces."
   ]
  },
  {
   "cell_type": "code",
   "execution_count": 1,
   "metadata": {},
   "outputs": [],
   "source": [
    "def solve(s):\n",
    "    pass"
   ]
  },
  {
   "cell_type": "code",
   "execution_count": 2,
   "metadata": {},
   "outputs": [],
   "source": [
    "solve(\"codewars\") #\"srawedoc\"\n",
    "solve(\"your code\") #\"edoc ruoy\"\n",
    "solve(\"your code rocks\") #\"skco redo cruoy\"\n",
    "solve(\"i love codewars\") #\"s rawe docevoli\""
   ]
  },
  {
   "cell_type": "markdown",
   "metadata": {},
   "source": [
    "# My Code"
   ]
  },
  {
   "cell_type": "code",
   "execution_count": 3,
   "metadata": {},
   "outputs": [],
   "source": [
    "s = \"i love codewars\"    #\"s rawe docevoli\""
   ]
  },
  {
   "cell_type": "code",
   "execution_count": 4,
   "metadata": {},
   "outputs": [
    {
     "data": {
      "text/plain": [
       "'srawedoc evol i'"
      ]
     },
     "execution_count": 4,
     "metadata": {},
     "output_type": "execute_result"
    }
   ],
   "source": [
    "s[::-1]"
   ]
  },
  {
   "cell_type": "code",
   "execution_count": 8,
   "metadata": {},
   "outputs": [
    {
     "ename": "AttributeError",
     "evalue": "'str' object has no attribute 'remove'",
     "output_type": "error",
     "traceback": [
      "\u001b[0;31m---------------------------------------------------------------------------\u001b[0m",
      "\u001b[0;31mAttributeError\u001b[0m                            Traceback (most recent call last)",
      "\u001b[0;32m<ipython-input-8-1bc05ad23194>\u001b[0m in \u001b[0;36m<module>\u001b[0;34m\u001b[0m\n\u001b[0;32m----> 1\u001b[0;31m \u001b[0ms\u001b[0m\u001b[0;34m[\u001b[0m\u001b[0;34m:\u001b[0m\u001b[0;34m:\u001b[0m\u001b[0;34m-\u001b[0m\u001b[0;36m1\u001b[0m\u001b[0;34m]\u001b[0m\u001b[0;34m.\u001b[0m\u001b[0mremove\u001b[0m\u001b[0;34m(\u001b[0m\u001b[0;34m\" \"\u001b[0m\u001b[0;34m,\u001b[0m \u001b[0;34m\"\"\u001b[0m\u001b[0;34m)\u001b[0m\u001b[0;34m\u001b[0m\u001b[0;34m\u001b[0m\u001b[0m\n\u001b[0m",
      "\u001b[0;31mAttributeError\u001b[0m: 'str' object has no attribute 'remove'"
     ]
    }
   ],
   "source": [
    "s[::-1].remove(\" \", \"\")"
   ]
  },
  {
   "cell_type": "code",
   "execution_count": 21,
   "metadata": {},
   "outputs": [
    {
     "data": {
      "text/plain": [
       "['s', 'k', 'c', 'o', 'r', ' ', 'e', 'd', 'o', 'c', ' ', 'r', 'u', 'o', 'y']"
      ]
     },
     "execution_count": 21,
     "metadata": {},
     "output_type": "execute_result"
    }
   ],
   "source": [
    "[c for c in s[::-1]]"
   ]
  },
  {
   "cell_type": "code",
   "execution_count": 24,
   "metadata": {},
   "outputs": [],
   "source": [
    "s = \"i love codewars\"    #\"s rawe docevoli\""
   ]
  },
  {
   "cell_type": "code",
   "execution_count": 20,
   "metadata": {},
   "outputs": [],
   "source": [
    "s = \"your code rocks\""
   ]
  },
  {
   "cell_type": "code",
   "execution_count": 27,
   "metadata": {},
   "outputs": [
    {
     "name": "stdout",
     "output_type": "stream",
     "text": [
      "1\n",
      "3\n",
      "4\n",
      "5\n",
      "6\n",
      "8\n",
      "9\n",
      "10\n",
      "11\n",
      "12\n",
      "13\n",
      "14\n",
      "15\n"
     ]
    },
    {
     "data": {
      "text/plain": [
       "[2, 7]"
      ]
     },
     "execution_count": 27,
     "metadata": {},
     "output_type": "execute_result"
    }
   ],
   "source": [
    "spaces = []\n",
    "count = 0\n",
    "for i in [c for c in s]:\n",
    "    if i.isalpha():\n",
    "        count += 1\n",
    "        print(count)\n",
    "    else:\n",
    "        count += 1\n",
    "        spaces.append(count)\n",
    "spaces"
   ]
  },
  {
   "cell_type": "code",
   "execution_count": 29,
   "metadata": {},
   "outputs": [
    {
     "data": {
      "text/plain": [
       "[1, 6]"
      ]
     },
     "execution_count": 29,
     "metadata": {},
     "output_type": "execute_result"
    }
   ],
   "source": [
    "spaces = []\n",
    "count = 0\n",
    "for i in [c for c in s]:\n",
    "    if i.isalpha():\n",
    "        count += 1\n",
    "    else:\n",
    "        spaces.append(count)\n",
    "        count += 1       \n",
    "spaces"
   ]
  },
  {
   "cell_type": "code",
   "execution_count": 40,
   "metadata": {},
   "outputs": [
    {
     "data": {
      "text/plain": [
       "[1, 6]"
      ]
     },
     "execution_count": 40,
     "metadata": {},
     "output_type": "execute_result"
    }
   ],
   "source": [
    "spaces"
   ]
  },
  {
   "cell_type": "code",
   "execution_count": 42,
   "metadata": {},
   "outputs": [
    {
     "data": {
      "text/plain": [
       "1"
      ]
     },
     "execution_count": 42,
     "metadata": {},
     "output_type": "execute_result"
    }
   ],
   "source": [
    "spaces[0]"
   ]
  },
  {
   "cell_type": "code",
   "execution_count": 35,
   "metadata": {},
   "outputs": [
    {
     "data": {
      "text/plain": [
       "'i love codewars'"
      ]
     },
     "execution_count": 35,
     "metadata": {},
     "output_type": "execute_result"
    }
   ],
   "source": [
    "s"
   ]
  },
  {
   "cell_type": "code",
   "execution_count": 38,
   "metadata": {},
   "outputs": [
    {
     "data": {
      "text/plain": [
       "'srawedocevoli'"
      ]
     },
     "execution_count": 38,
     "metadata": {},
     "output_type": "execute_result"
    }
   ],
   "source": [
    "result = ''\n",
    "for i in s[::-1]:\n",
    "    if i.isalpha():\n",
    "        result += i\n",
    "    else:\n",
    "        pass\n",
    "result"
   ]
  },
  {
   "cell_type": "code",
   "execution_count": 39,
   "metadata": {},
   "outputs": [
    {
     "data": {
      "text/plain": [
       "'srawedocevoli'"
      ]
     },
     "execution_count": 39,
     "metadata": {},
     "output_type": "execute_result"
    }
   ],
   "source": [
    "result = ''\n",
    "for i in s[::-1]:\n",
    "    if i in spaces:\n",
    "        result += \" \"\n",
    "    elif i.isalpha():\n",
    "        result += i\n",
    "    else:\n",
    "        pass\n",
    "result"
   ]
  },
  {
   "cell_type": "code",
   "execution_count": 43,
   "metadata": {},
   "outputs": [
    {
     "data": {
      "text/plain": [
       "'s awed cevoli'"
      ]
     },
     "execution_count": 43,
     "metadata": {},
     "output_type": "execute_result"
    }
   ],
   "source": [
    "# Totally guess and check - but it doesn't work...\n",
    "result = ''\n",
    "for i, j in enumerate(s[::-1]):\n",
    "    if i in spaces:\n",
    "        result += \" \"\n",
    "    elif j.isalpha():\n",
    "        result += j\n",
    "    else:\n",
    "        pass\n",
    "result"
   ]
  },
  {
   "cell_type": "code",
   "execution_count": 56,
   "metadata": {},
   "outputs": [
    {
     "name": "stdout",
     "output_type": "stream",
     "text": [
      "0 s\n",
      "s\n",
      "1 r\n",
      "[1, 6]\n",
      "s r\n",
      "2 a\n",
      "s ra\n",
      "3 w\n",
      "s raw\n",
      "4 e\n",
      "s rawe\n",
      "5 d\n",
      "s rawed\n",
      "6 o\n",
      "[1, 6]\n",
      "s rawed o\n",
      "7 c\n",
      "s rawed oc\n",
      "8  \n",
      "s rawed oc\n",
      "9 e\n",
      "s rawed oce\n",
      "10 v\n",
      "s rawed ocev\n",
      "11 o\n",
      "s rawed ocevo\n",
      "12 l\n",
      "s rawed ocevol\n",
      "13  \n",
      "s rawed ocevol\n",
      "14 i\n",
      "s rawed ocevoli\n"
     ]
    },
    {
     "data": {
      "text/plain": [
       "'s rawed ocevoli'"
      ]
     },
     "execution_count": 56,
     "metadata": {},
     "output_type": "execute_result"
    }
   ],
   "source": [
    "# where is it failing?\n",
    "result = ''\n",
    "for i, j in enumerate(s[::-1]):\n",
    "    print(i,j)\n",
    "    if i in spaces:\n",
    "        print(spaces)\n",
    "        result += \" \" + j \n",
    "    elif j.isalpha():\n",
    "        result += j\n",
    "    else:\n",
    "        pass\n",
    "    print(result)\n",
    "result"
   ]
  },
  {
   "cell_type": "code",
   "execution_count": null,
   "metadata": {},
   "outputs": [],
   "source": [
    "# where is it failing?\n",
    "result = ''\n",
    "for i, j in enumerate(s[::-1]):\n",
    "    print(i,j)\n",
    "    if i in spaces:\n",
    "        print(spaces)\n",
    "        result += \" \" + j \n",
    "    elif j.isalpha():\n",
    "        result += j\n",
    "    else:\n",
    "        pass\n",
    "    print(result)\n",
    "result"
   ]
  },
  {
   "cell_type": "code",
   "execution_count": 44,
   "metadata": {},
   "outputs": [
    {
     "data": {
      "text/plain": [
       "'s awed cevoli'"
      ]
     },
     "execution_count": 44,
     "metadata": {},
     "output_type": "execute_result"
    }
   ],
   "source": [
    "spaces = []\n",
    "count = 0\n",
    "for i in [c for c in s]:\n",
    "    if i.isalpha():\n",
    "        count += 1\n",
    "    else:\n",
    "        spaces.append(count)\n",
    "        count += 1       \n",
    "\n",
    "result = ''\n",
    "for i, j in enumerate(s[::-1]):\n",
    "    if i in spaces:\n",
    "        result += \" \"\n",
    "    elif j.isalpha():\n",
    "        result += j\n",
    "    else:\n",
    "        pass\n",
    "result"
   ]
  },
  {
   "cell_type": "code",
   "execution_count": 57,
   "metadata": {},
   "outputs": [],
   "source": [
    "# So close!!!!\n",
    "def solve(s):\n",
    "    spaces = []\n",
    "    count = 0\n",
    "    for i in [c for c in s]:\n",
    "        if i.isalpha():\n",
    "            count += 1\n",
    "        else:\n",
    "            spaces.append(count)\n",
    "            count += 1       \n",
    "\n",
    "    result = ''\n",
    "    for i, j in enumerate(s[::-1]):\n",
    "        if i in spaces:\n",
    "            result += \" \"\n",
    "        elif j.isalpha():\n",
    "            result += j\n",
    "        else:\n",
    "            pass\n",
    "    return result"
   ]
  },
  {
   "cell_type": "code",
   "execution_count": 62,
   "metadata": {},
   "outputs": [],
   "source": [
    "# So close!!!!\n",
    "def solve(s):\n",
    "    spaces = []\n",
    "    count = 0\n",
    "    for i in [c for c in s]:\n",
    "        if i.isalpha():\n",
    "            count += 1\n",
    "        else:\n",
    "            spaces.append(count)\n",
    "            count += 1       \n",
    "\n",
    "    result = ''\n",
    "    for i, j in enumerate(s[::-1]):\n",
    "        if i in spaces:\n",
    "            result += \" \" + j\n",
    "        elif j.isalpha():\n",
    "            result += j\n",
    "        else:\n",
    "            pass\n",
    "    return result"
   ]
  },
  {
   "cell_type": "code",
   "execution_count": 63,
   "metadata": {},
   "outputs": [
    {
     "data": {
      "text/plain": [
       "'srawedoc'"
      ]
     },
     "execution_count": 63,
     "metadata": {},
     "output_type": "execute_result"
    }
   ],
   "source": [
    "solve(\"codewars\") #\"srawedoc\""
   ]
  },
  {
   "cell_type": "code",
   "execution_count": 64,
   "metadata": {},
   "outputs": [
    {
     "data": {
      "text/plain": [
       "'edoc  ruoy'"
      ]
     },
     "execution_count": 64,
     "metadata": {},
     "output_type": "execute_result"
    }
   ],
   "source": [
    "solve(\"your code\") #\"edoc ruoy\""
   ]
  },
  {
   "cell_type": "code",
   "execution_count": 65,
   "metadata": {},
   "outputs": [
    {
     "data": {
      "text/plain": [
       "'skco redo cruoy'"
      ]
     },
     "execution_count": 65,
     "metadata": {},
     "output_type": "execute_result"
    }
   ],
   "source": [
    "solve(\"your code rocks\") #\"skco redo cruoy\""
   ]
  },
  {
   "cell_type": "code",
   "execution_count": 66,
   "metadata": {},
   "outputs": [
    {
     "data": {
      "text/plain": [
       "'s rawed ocevoli'"
      ]
     },
     "execution_count": 66,
     "metadata": {},
     "output_type": "execute_result"
    }
   ],
   "source": [
    "solve(\"i love codewars\") #\"s rawe docevoli\""
   ]
  },
  {
   "cell_type": "code",
   "execution_count": 67,
   "metadata": {},
   "outputs": [],
   "source": [
    "s = \"i love codewars\""
   ]
  },
  {
   "cell_type": "code",
   "execution_count": 68,
   "metadata": {},
   "outputs": [
    {
     "name": "stdout",
     "output_type": "stream",
     "text": [
      "0 i\n",
      "1  \n",
      "2 l\n",
      "3 o\n",
      "4 v\n",
      "5 e\n",
      "6  \n",
      "7 c\n",
      "8 o\n",
      "9 d\n",
      "10 e\n",
      "11 w\n",
      "12 a\n",
      "13 r\n",
      "14 s\n"
     ]
    }
   ],
   "source": [
    "\"s rawe docevoli\"\n",
    "for i, j in enumerate(s):\n",
    "    print(i,j)"
   ]
  },
  {
   "cell_type": "code",
   "execution_count": 70,
   "metadata": {},
   "outputs": [
    {
     "name": "stdout",
     "output_type": "stream",
     "text": [
      "0 s\n",
      "1  \n",
      "2 r\n",
      "3 a\n",
      "4 w\n",
      "5 e\n",
      "6  \n",
      "7 d\n",
      "8 o\n",
      "9 c\n",
      "10 e\n",
      "11 v\n",
      "12 o\n",
      "13 l\n",
      "14 i\n"
     ]
    }
   ],
   "source": [
    "s_rev = \"s rawe docevoli\"\n",
    "for i, j in enumerate(s_rev):\n",
    "    print(i,j)"
   ]
  },
  {
   "cell_type": "code",
   "execution_count": 80,
   "metadata": {},
   "outputs": [
    {
     "data": {
      "text/plain": [
       "['i', ' ', 'l', 'o', 'v', 'e', ' ', 'c', 'o', 'd', 'e', 'w', 'a', 'r', 's']"
      ]
     },
     "execution_count": 80,
     "metadata": {},
     "output_type": "execute_result"
    }
   ],
   "source": [
    "a = [c for c in s]\n",
    "a"
   ]
  },
  {
   "cell_type": "code",
   "execution_count": 79,
   "metadata": {},
   "outputs": [
    {
     "data": {
      "text/plain": [
       "['i',\n",
       " ' ',\n",
       " 'l',\n",
       " 'o',\n",
       " 'v',\n",
       " 'e',\n",
       " 'c',\n",
       " 'o',\n",
       " 'd',\n",
       " ' ',\n",
       " 'e',\n",
       " 'w',\n",
       " 'a',\n",
       " 'r',\n",
       " ' ',\n",
       " 's']"
      ]
     },
     "execution_count": 79,
     "metadata": {},
     "output_type": "execute_result"
    }
   ],
   "source": [
    "a.insert(1, \" \")\n",
    "a"
   ]
  },
  {
   "cell_type": "code",
   "execution_count": 126,
   "metadata": {},
   "outputs": [],
   "source": [
    "s = \"i love codewars\""
   ]
  },
  {
   "cell_type": "code",
   "execution_count": 127,
   "metadata": {},
   "outputs": [
    {
     "data": {
      "text/plain": [
       "'ilovecodewars'"
      ]
     },
     "execution_count": 127,
     "metadata": {},
     "output_type": "execute_result"
    }
   ],
   "source": [
    "a = s.replace(\" \", '')\n",
    "a"
   ]
  },
  {
   "cell_type": "code",
   "execution_count": 128,
   "metadata": {},
   "outputs": [
    {
     "data": {
      "text/plain": [
       "['i', 'l', 'o', 'v', 'e', 'c', 'o', 'd', 'e', 'w', 'a', 'r', 's']"
      ]
     },
     "execution_count": 128,
     "metadata": {},
     "output_type": "execute_result"
    }
   ],
   "source": [
    "b = list(a)\n",
    "b"
   ]
  },
  {
   "cell_type": "code",
   "execution_count": 129,
   "metadata": {},
   "outputs": [
    {
     "data": {
      "text/plain": [
       "['s', 'r', 'a', 'w', 'e', 'd', 'o', 'c', 'e', 'v', 'o', 'l', 'i']"
      ]
     },
     "execution_count": 129,
     "metadata": {},
     "output_type": "execute_result"
    }
   ],
   "source": [
    "c = b[::-1]\n",
    "c"
   ]
  },
  {
   "cell_type": "code",
   "execution_count": 130,
   "metadata": {},
   "outputs": [
    {
     "name": "stdout",
     "output_type": "stream",
     "text": [
      "['s', ' ', 'r', 'a', 'w', 'e', 'd', 'o', 'c', 'e', 'v', 'o', 'l', 'i']\n"
     ]
    }
   ],
   "source": [
    "d = c\n",
    "d.insert(1, ' ')\n",
    "print(d)"
   ]
  },
  {
   "cell_type": "code",
   "execution_count": 131,
   "metadata": {},
   "outputs": [
    {
     "name": "stdout",
     "output_type": "stream",
     "text": [
      "['s', ' ', 'r', 'a', 'w', 'e', ' ', 'd', 'o', 'c', 'e', 'v', 'o', 'l', 'i']\n"
     ]
    }
   ],
   "source": [
    "d.insert(6, ' ')\n",
    "print(d)"
   ]
  },
  {
   "cell_type": "code",
   "execution_count": 132,
   "metadata": {},
   "outputs": [
    {
     "data": {
      "text/plain": [
       "'s rawe docevoli'"
      ]
     },
     "execution_count": 132,
     "metadata": {},
     "output_type": "execute_result"
    }
   ],
   "source": [
    "e = ''.join(d)\n",
    "e"
   ]
  },
  {
   "cell_type": "code",
   "execution_count": 137,
   "metadata": {},
   "outputs": [
    {
     "data": {
      "text/plain": [
       "'i love codewars'"
      ]
     },
     "execution_count": 137,
     "metadata": {},
     "output_type": "execute_result"
    }
   ],
   "source": [
    "s"
   ]
  },
  {
   "cell_type": "code",
   "execution_count": 148,
   "metadata": {},
   "outputs": [],
   "source": [
    "# This one passed!\n",
    "def solve(s):\n",
    "    spaces = []\n",
    "    count = 0\n",
    "    for i in [c for c in s]:\n",
    "        if i.isalpha():\n",
    "            count += 1\n",
    "        else:\n",
    "            spaces.append(count)\n",
    "            count += 1       \n",
    "    \n",
    "    a = s.replace(\" \", '')\n",
    "    b = list(a)\n",
    "    c = b[::-1]\n",
    "    d = c\n",
    "    for x in spaces:\n",
    "        d.insert(x, ' ')\n",
    "    e = ''.join(d)\n",
    "    return e"
   ]
  },
  {
   "cell_type": "code",
   "execution_count": 157,
   "metadata": {},
   "outputs": [
    {
     "data": {
      "text/plain": [
       "'s rawe docevoli'"
      ]
     },
     "execution_count": 157,
     "metadata": {},
     "output_type": "execute_result"
    }
   ],
   "source": [
    "solve(\"i love codewars\") #\"s rawe docevoli\""
   ]
  },
  {
   "cell_type": "code",
   "execution_count": 150,
   "metadata": {},
   "outputs": [
    {
     "data": {
      "text/plain": [
       "'srawedoc'"
      ]
     },
     "execution_count": 150,
     "metadata": {},
     "output_type": "execute_result"
    }
   ],
   "source": [
    "solve(\"codewars\") #\"srawedoc\""
   ]
  },
  {
   "cell_type": "code",
   "execution_count": 151,
   "metadata": {},
   "outputs": [
    {
     "data": {
      "text/plain": [
       "'edoc ruoy'"
      ]
     },
     "execution_count": 151,
     "metadata": {},
     "output_type": "execute_result"
    }
   ],
   "source": [
    "solve(\"your code\") #\"edoc ruoy\""
   ]
  },
  {
   "cell_type": "code",
   "execution_count": 156,
   "metadata": {},
   "outputs": [
    {
     "data": {
      "text/plain": [
       "'skco redo cruoy'"
      ]
     },
     "execution_count": 156,
     "metadata": {},
     "output_type": "execute_result"
    }
   ],
   "source": [
    "solve(\"your code rocks\") #\"skco redo cruoy\""
   ]
  },
  {
   "cell_type": "code",
   "execution_count": 158,
   "metadata": {},
   "outputs": [
    {
     "data": {
      "text/plain": [
       "[1, 6]"
      ]
     },
     "execution_count": 158,
     "metadata": {},
     "output_type": "execute_result"
    }
   ],
   "source": [
    "spaces = [i for i in range(len(s)) if s[i] == \" \"]\n",
    "spaces"
   ]
  },
  {
   "cell_type": "code",
   "execution_count": 155,
   "metadata": {},
   "outputs": [],
   "source": [
    "# Just messing around with my solution with some help...\n",
    "def solve(s):\n",
    "    spaces = [i for i in range(len(s)) if s[i] == \" \"]\n",
    "    \n",
    "    d = list(s.replace(\" \", ''))[::-1]\n",
    "    for x in spaces:\n",
    "        d.insert(x, ' ')\n",
    "    e = ''.join(d)\n",
    "    return e"
   ]
  },
  {
   "cell_type": "code",
   "execution_count": null,
   "metadata": {},
   "outputs": [],
   "source": []
  },
  {
   "cell_type": "markdown",
   "metadata": {},
   "source": [
    "# Solutions"
   ]
  },
  {
   "cell_type": "code",
   "execution_count": null,
   "metadata": {},
   "outputs": [],
   "source": [
    "def solve(s):\n",
    "    it = reversed(s.replace(' ',''))\n",
    "    return ''.join(c if c == ' ' else next(it) for c in s)"
   ]
  },
  {
   "cell_type": "code",
   "execution_count": null,
   "metadata": {},
   "outputs": [],
   "source": [
    "def solve(s):\n",
    "    space_index=[i for i in range(len(s)) if s[i]==\" \"]    #find index of saces  \n",
    "    s = ''.join(s.split())                                 #remove spaces\n",
    "    s=s[::-1]                                              #reverse the string    \n",
    "    for i in space_index:                                  #add spaces again to exactly same place before\n",
    "        s = s[:i] + \" \" + s[i:]\n",
    "    return s"
   ]
  },
  {
   "cell_type": "code",
   "execution_count": null,
   "metadata": {},
   "outputs": [],
   "source": [
    "def solve(s):\n",
    "    rev = list(s.replace(' ', '')[::-1])\n",
    "    for index, item in enumerate(s):\n",
    "        if item == ' ':\n",
    "            rev.insert(index, item)\n",
    "    return ''.join(rev)"
   ]
  }
 ],
 "metadata": {
  "kernelspec": {
   "display_name": "learn-env",
   "language": "python",
   "name": "learn-env"
  },
  "language_info": {
   "codemirror_mode": {
    "name": "ipython",
    "version": 3
   },
   "file_extension": ".py",
   "mimetype": "text/x-python",
   "name": "python",
   "nbconvert_exporter": "python",
   "pygments_lexer": "ipython3",
   "version": "3.6.9"
  },
  "toc": {
   "base_numbering": 1,
   "nav_menu": {},
   "number_sections": true,
   "sideBar": true,
   "skip_h1_title": false,
   "title_cell": "Table of Contents",
   "title_sidebar": "Contents",
   "toc_cell": false,
   "toc_position": {},
   "toc_section_display": true,
   "toc_window_display": false
  }
 },
 "nbformat": 4,
 "nbformat_minor": 4
}
